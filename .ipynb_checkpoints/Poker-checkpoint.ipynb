{
 "cells": [
  {
   "cell_type": "code",
   "execution_count": 27,
   "metadata": {
    "collapsed": false
   },
   "outputs": [],
   "source": [
    "import random\n",
    "\n",
    "class Player(object):\n",
    "    def __init__(self, money = 1000):\n",
    "        self.money = money\n",
    "        \n",
    "    def add_money(self, amount):\n",
    "        self.money += amount\n",
    "        \n",
    "    def subtract_money(self, amount):\n",
    "        self.money -= amount\n",
    "        \n",
    "class Deck(object):\n",
    "    def __init__(self):\n",
    "        self.suit = [\"Heart\", \"Diamond\", \"Spade\", \"Club\"]\n",
    "        self.rank = [\"A\", \"K\", \"Q\", \"J\", \"10\", \"9\", \"8\", \"7\", \"6\", \"5\", \"4\", \"3\", \"2\"]\n",
    "        self.deck = [j + \" \" + i for j in self.rank for i in self.suit]\n",
    "        \n",
    "    def shuffle(self):\n",
    "        return random.shuffle(self.deck)\n"
   ]
  },
  {
   "cell_type": "code",
   "execution_count": 28,
   "metadata": {
    "collapsed": false
   },
   "outputs": [],
   "source": [
    "player1 = Player()\n",
    "player2 = Player()\n",
    "deck = Deck()\n",
    "# deal = Deal()"
   ]
  },
  {
   "cell_type": "code",
   "execution_count": 29,
   "metadata": {
    "collapsed": false
   },
   "outputs": [
    {
     "data": {
      "text/plain": [
       "<bound method Deck.shuffle of <__main__.Deck object at 0x000001A598AA9438>>"
      ]
     },
     "execution_count": 29,
     "metadata": {},
     "output_type": "execute_result"
    }
   ],
   "source": [
    "deck.shuffle"
   ]
  },
  {
   "cell_type": "code",
   "execution_count": 30,
   "metadata": {
    "collapsed": false
   },
   "outputs": [
    {
     "data": {
      "text/plain": [
       "['A Heart',\n",
       " 'A Diamond',\n",
       " 'A Spade',\n",
       " 'A Club',\n",
       " 'K Heart',\n",
       " 'K Diamond',\n",
       " 'K Spade',\n",
       " 'K Club',\n",
       " 'Q Heart',\n",
       " 'Q Diamond',\n",
       " 'Q Spade',\n",
       " 'Q Club',\n",
       " 'J Heart',\n",
       " 'J Diamond',\n",
       " 'J Spade',\n",
       " 'J Club',\n",
       " '10 Heart',\n",
       " '10 Diamond',\n",
       " '10 Spade',\n",
       " '10 Club',\n",
       " '9 Heart',\n",
       " '9 Diamond',\n",
       " '9 Spade',\n",
       " '9 Club',\n",
       " '8 Heart',\n",
       " '8 Diamond',\n",
       " '8 Spade',\n",
       " '8 Club',\n",
       " '7 Heart',\n",
       " '7 Diamond',\n",
       " '7 Spade',\n",
       " '7 Club',\n",
       " '6 Heart',\n",
       " '6 Diamond',\n",
       " '6 Spade',\n",
       " '6 Club',\n",
       " '5 Heart',\n",
       " '5 Diamond',\n",
       " '5 Spade',\n",
       " '5 Club',\n",
       " '4 Heart',\n",
       " '4 Diamond',\n",
       " '4 Spade',\n",
       " '4 Club',\n",
       " '3 Heart',\n",
       " '3 Diamond',\n",
       " '3 Spade',\n",
       " '3 Club',\n",
       " '2 Heart',\n",
       " '2 Diamond',\n",
       " '2 Spade',\n",
       " '2 Club']"
      ]
     },
     "execution_count": 30,
     "metadata": {},
     "output_type": "execute_result"
    }
   ],
   "source": [
    "deck.deck"
   ]
  },
  {
   "cell_type": "code",
   "execution_count": null,
   "metadata": {
    "collapsed": false
   },
   "outputs": [],
   "source": []
  },
  {
   "cell_type": "code",
   "execution_count": null,
   "metadata": {
    "collapsed": false
   },
   "outputs": [],
   "source": []
  },
  {
   "cell_type": "code",
   "execution_count": null,
   "metadata": {
    "collapsed": false
   },
   "outputs": [],
   "source": []
  },
  {
   "cell_type": "code",
   "execution_count": null,
   "metadata": {
    "collapsed": false
   },
   "outputs": [],
   "source": []
  },
  {
   "cell_type": "code",
   "execution_count": null,
   "metadata": {
    "collapsed": false
   },
   "outputs": [],
   "source": []
  },
  {
   "cell_type": "code",
   "execution_count": null,
   "metadata": {
    "collapsed": true
   },
   "outputs": [],
   "source": []
  }
 ],
 "metadata": {
  "kernelspec": {
   "display_name": "Python 3",
   "language": "python",
   "name": "python3"
  },
  "language_info": {
   "codemirror_mode": {
    "name": "ipython",
    "version": 3
   },
   "file_extension": ".py",
   "mimetype": "text/x-python",
   "name": "python",
   "nbconvert_exporter": "python",
   "pygments_lexer": "ipython3",
   "version": "3.5.1"
  }
 },
 "nbformat": 4,
 "nbformat_minor": 0
}
