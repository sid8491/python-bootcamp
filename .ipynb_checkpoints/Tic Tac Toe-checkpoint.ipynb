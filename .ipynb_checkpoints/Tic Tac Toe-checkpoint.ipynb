{
 "cells": [
  {
   "cell_type": "code",
   "execution_count": 51,
   "metadata": {
    "collapsed": false
   },
   "outputs": [
    {
     "name": "stdout",
     "output_type": "stream",
     "text": [
      "     |     |    \n",
      "  X  |  O  |  X  \n",
      "     |     |     \n",
      "-----------------\n",
      "     |     |    \n",
      "  O  |  X  |  O  \n",
      "     |     |     \n",
      "-----------------\n",
      "     |     |    \n",
      "  X  |     |     \n",
      "     |     |     \n",
      "\n",
      "Player 1 wins\n",
      "---------------\n"
     ]
    }
   ],
   "source": [
    "# to clear/refresh the output\n",
    "from IPython.display import clear_output\n",
    "\n",
    "# global variables\n",
    "max_chances = 9\n",
    "game_state = True\n",
    "board = [' '] * 11\n",
    "\n",
    "def init_game():\n",
    "    print(\"Welcome to TIC TAC TOE\\nFor Player-1 symbol is X\\nFor Player-2 symbol is O\\nLet the GAME BEGIN\")\n",
    "    print(\"---------------------------\\n\\n\")\n",
    "    \n",
    "def print_board():\n",
    "    global board\n",
    "    print(\"     |     |    \")\n",
    "    print(\"  %s  |  %s  |  %s  \" % (board[1], board[2], board[3]))\n",
    "    print(\"     |     |     \")\n",
    "    print('-'*17)\n",
    "    print(\"     |     |    \")\n",
    "    print(\"  %s  |  %s  |  %s  \" % (board[4], board[5], board[6]))\n",
    "    print(\"     |     |     \")\n",
    "    print('-'*17)\n",
    "    print(\"     |     |    \")\n",
    "    print(\"  %s  |  %s  |  %s  \" % (board[7], board[8], board[9]))\n",
    "    print(\"     |     |     \")\n",
    "\n",
    "def play():\n",
    "    global max_chances, game_state, board\n",
    "    while(game_state):\n",
    "        \n",
    "        max_chances -= 1\n",
    "        game_state = True if max_chances > 0 else False\n",
    "        print(\"Your turn Player %s\" % ('1' if max_chances%2 == 0 else '2'))\n",
    "        while(True):\n",
    "            pos = int(input(\"Select a position from (1-9)\"))\n",
    "            if(board[pos] == ' '):\n",
    "                break\n",
    "            else:\n",
    "                pass\n",
    "        board[pos] = 'X' if max_chances%2 == 0 else 'O'\n",
    "        clear_output()\n",
    "        print_board()\n",
    "        if((board[1] == board[2] == board[3] == \"X\") | (board[4] == board[5] == board[6] == \"X\")\n",
    "          | (board[7] == board[8] == board[9] == \"X\") | (board[1] == board[4] == board[7] == \"X\")\n",
    "          | (board[2] == board[5] == board[8] == \"X\") | (board[3] == board[6] == board[9] == \"X\")\n",
    "          | (board[1] == board[5] == board[9] == \"X\") | (board[3] == board[5] == board[7] == \"X\")):\n",
    "            win_game()\n",
    "            max_chances = -1\n",
    "            break\n",
    "        elif((board[1] == board[2] == board[3] == \"O\") | (board[4] == board[5] == board[6] == \"O\")\n",
    "          | (board[7] == board[8] == board[9] == \"O\") | (board[1] == board[4] == board[7] == \"O\")\n",
    "          | (board[2] == board[5] == board[8] == \"O\") | (board[3] == board[6] == board[9] == \"O\")\n",
    "          | (board[1] == board[5] == board[9] == \"O\") | (board[3] == board[5] == board[7] == \"O\")):\n",
    "            win_game()\n",
    "            max_chances = -1\n",
    "            break\n",
    "            \n",
    "    if(max_chances == 0):\n",
    "        print(\"\\nGAME OVER\\nMatch drawn\")\n",
    "\n",
    "def win_game():\n",
    "    print(\"\\nPlayer %s wins\" % ('1' if max_chances%2 == 0 else '2'))\n",
    "    print(\"---------------\")\n",
    "        \n",
    "init_game()\n",
    "play()"
   ]
  },
  {
   "cell_type": "code",
   "execution_count": null,
   "metadata": {
    "collapsed": false
   },
   "outputs": [],
   "source": []
  },
  {
   "cell_type": "code",
   "execution_count": null,
   "metadata": {
    "collapsed": false
   },
   "outputs": [],
   "source": []
  },
  {
   "cell_type": "code",
   "execution_count": null,
   "metadata": {
    "collapsed": false
   },
   "outputs": [],
   "source": []
  },
  {
   "cell_type": "code",
   "execution_count": null,
   "metadata": {
    "collapsed": true
   },
   "outputs": [],
   "source": []
  }
 ],
 "metadata": {
  "kernelspec": {
   "display_name": "Python 3",
   "language": "python",
   "name": "python3"
  },
  "language_info": {
   "codemirror_mode": {
    "name": "ipython",
    "version": 3
   },
   "file_extension": ".py",
   "mimetype": "text/x-python",
   "name": "python",
   "nbconvert_exporter": "python",
   "pygments_lexer": "ipython3",
   "version": "3.5.1"
  }
 },
 "nbformat": 4,
 "nbformat_minor": 0
}
