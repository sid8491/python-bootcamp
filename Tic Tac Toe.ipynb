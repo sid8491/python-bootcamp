{
 "cells": [
  {
   "cell_type": "code",
   "execution_count": 45,
   "metadata": {
    "collapsed": false
   },
   "outputs": [
    {
     "name": "stdout",
     "output_type": "stream",
     "text": [
      "1\n",
      "[1, 2, 3, 4]\n",
      "2\n",
      "[1, 2, 3, 4]\n",
      "3\n",
      "[1, 2, 3, 4]\n",
      "else\n",
      "[1, 2, 3, 4]\n"
     ]
    }
   ],
   "source": [
    "from IPython.display import clear_output\n",
    "\n",
    "max_chance = 9\n",
    "player1 = [1,2,3,4]\n",
    "player2 = []\n",
    "\n",
    "def win_check(player):\n",
    "    for x in ['1','2','3']:\n",
    "        print(x)\n",
    "        print(player)\n",
    "        if x in player:\n",
    "            print(x)\n",
    "            print(player)\n",
    "            return True\n",
    "    else:\n",
    "        print('else')\n",
    "        print(player)\n",
    "\n",
    "win_check(player1)"
   ]
  },
  {
   "cell_type": "code",
   "execution_count": 36,
   "metadata": {
    "collapsed": false
   },
   "outputs": [
    {
     "data": {
      "text/plain": [
       "[['1', '2', '3'], ['4', '5', '6'], ['7', '8', '9']]"
      ]
     },
     "execution_count": 36,
     "metadata": {},
     "output_type": "execute_result"
    }
   ],
   "source": [
    "[['1','2','3'],['4','5','6'],['7','8','9']]"
   ]
  },
  {
   "cell_type": "code",
   "execution_count": 64,
   "metadata": {
    "collapsed": false
   },
   "outputs": [
    {
     "name": "stdout",
     "output_type": "stream",
     "text": [
      "     |     |    \n",
      "  X  |  O  |  X  \n",
      "     |     |     \n",
      "-----------------\n",
      "     |     |    \n",
      "  X  |  O  |  O  \n",
      "     |     |     \n",
      "-----------------\n",
      "     |     |    \n",
      "  X  |  X  |  X  \n",
      "     |     |     \n"
     ]
    }
   ],
   "source": [
    "board = [' '] * 10\n",
    "\n",
    "board[5] = board[2] = board[6] = 'O'\n",
    "print_board()\n",
    "\n",
    "def print_board():\n",
    "    global board\n",
    "    print(\"     |     |    \")\n",
    "    print(\"  %s  |  %s  |  %s  \" % (board[1], board[2], board[3]))\n",
    "    print(\"     |     |     \")\n",
    "    print('-'*17)\n",
    "    print(\"     |     |    \")\n",
    "    print(\"  %s  |  %s  |  %s  \" % (board[4], board[5], board[6]))\n",
    "    print(\"     |     |     \")\n",
    "    print('-'*17)\n",
    "    print(\"     |     |    \")\n",
    "    print(\"  %s  |  %s  |  %s  \" % (board[7], board[8], board[9]))\n",
    "    print(\"     |     |     \")\n"
   ]
  },
  {
   "cell_type": "code",
   "execution_count": null,
   "metadata": {
    "collapsed": true
   },
   "outputs": [],
   "source": []
  }
 ],
 "metadata": {
  "kernelspec": {
   "display_name": "Python 3",
   "language": "python",
   "name": "python3"
  },
  "language_info": {
   "codemirror_mode": {
    "name": "ipython",
    "version": 3
   },
   "file_extension": ".py",
   "mimetype": "text/x-python",
   "name": "python",
   "nbconvert_exporter": "python",
   "pygments_lexer": "ipython3",
   "version": "3.5.1"
  }
 },
 "nbformat": 4,
 "nbformat_minor": 0
}
