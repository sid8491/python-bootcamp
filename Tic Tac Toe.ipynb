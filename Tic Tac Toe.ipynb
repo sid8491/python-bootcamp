{
 "cells": [
  {
   "cell_type": "code",
   "execution_count": 57,
   "metadata": {
    "collapsed": false
   },
   "outputs": [
    {
     "name": "stdout",
     "output_type": "stream",
     "text": [
      "Welcome to TIC TAC TOE\n",
      "For Player-1 symbol is X\n",
      "For Player-2 symbol is O\n",
      "Let the GAME BEGIN\n",
      "---------------------------\n",
      "\n",
      "\n",
      "9\n",
      "Your turn Player 2\n",
      "Select a position from (1-9)1\n",
      "     |     |    \n",
      "  O  |     |     \n",
      "     |     |     \n",
      "-----------------\n",
      "     |     |    \n",
      "     |     |     \n",
      "     |     |     \n",
      "-----------------\n",
      "     |     |    \n",
      "     |     |     \n",
      "     |     |     \n",
      "8\n",
      "Your turn Player 1\n",
      "Select a position from (1-9)2\n",
      "     |     |    \n",
      "  O  |  X  |     \n",
      "     |     |     \n",
      "-----------------\n",
      "     |     |    \n",
      "     |     |     \n",
      "     |     |     \n",
      "-----------------\n",
      "     |     |    \n",
      "     |     |     \n",
      "     |     |     \n",
      "7\n",
      "Your turn Player 2\n",
      "Select a position from (1-9)3\n",
      "     |     |    \n",
      "  O  |  X  |  O  \n",
      "     |     |     \n",
      "-----------------\n",
      "     |     |    \n",
      "     |     |     \n",
      "     |     |     \n",
      "-----------------\n",
      "     |     |    \n",
      "     |     |     \n",
      "     |     |     \n",
      "6\n",
      "Your turn Player 1\n",
      "Select a position from (1-9)4\n",
      "     |     |    \n",
      "  O  |  X  |  O  \n",
      "     |     |     \n",
      "-----------------\n",
      "     |     |    \n",
      "  X  |     |     \n",
      "     |     |     \n",
      "-----------------\n",
      "     |     |    \n",
      "     |     |     \n",
      "     |     |     \n",
      "5\n",
      "Your turn Player 2\n",
      "Select a position from (1-9)5\n",
      "     |     |    \n",
      "  O  |  X  |  O  \n",
      "     |     |     \n",
      "-----------------\n",
      "     |     |    \n",
      "  X  |  O  |     \n",
      "     |     |     \n",
      "-----------------\n",
      "     |     |    \n",
      "     |     |     \n",
      "     |     |     \n",
      "4\n",
      "Your turn Player 1\n",
      "Select a position from (1-9)6\n",
      "     |     |    \n",
      "  O  |  X  |  O  \n",
      "     |     |     \n",
      "-----------------\n",
      "     |     |    \n",
      "  X  |  O  |  X  \n",
      "     |     |     \n",
      "-----------------\n",
      "     |     |    \n",
      "     |     |     \n",
      "     |     |     \n",
      "3\n",
      "Your turn Player 2\n",
      "Select a position from (1-9)7\n",
      "     |     |    \n",
      "  O  |  X  |  O  \n",
      "     |     |     \n",
      "-----------------\n",
      "     |     |    \n",
      "  X  |  O  |  X  \n",
      "     |     |     \n",
      "-----------------\n",
      "     |     |    \n",
      "  O  |     |     \n",
      "     |     |     \n",
      "2\n",
      "Your turn Player 1\n",
      "Select a position from (1-9)8\n",
      "     |     |    \n",
      "  O  |  X  |  O  \n",
      "     |     |     \n",
      "-----------------\n",
      "     |     |    \n",
      "  X  |  O  |  X  \n",
      "     |     |     \n",
      "-----------------\n",
      "     |     |    \n",
      "  O  |  X  |     \n",
      "     |     |     \n",
      "1\n",
      "game over\n",
      "Your turn Player 2\n",
      "Select a position from (1-9)9\n",
      "     |     |    \n",
      "  O  |  X  |  O  \n",
      "     |     |     \n",
      "-----------------\n",
      "     |     |    \n",
      "  X  |  O  |  X  \n",
      "     |     |     \n",
      "-----------------\n",
      "     |     |    \n",
      "  O  |  X  |  O  \n",
      "     |     |     \n"
     ]
    }
   ],
   "source": [
    "# to clear/refresh the output\n",
    "from IPython.display import clear_output\n",
    "\n",
    "# global variables\n",
    "max_chances = 9\n",
    "game_state = True\n",
    "board = [' '] * 11\n",
    "\n",
    "def init_game():\n",
    "    print(\"Welcome to TIC TAC TOE\\nFor Player-1 symbol is X\\nFor Player-2 symbol is O\\nLet the GAME BEGIN\")\n",
    "    print(\"---------------------------\\n\\n\")\n",
    "    \n",
    "def print_board():\n",
    "    global board\n",
    "    print(\"     |     |    \")\n",
    "    print(\"  %s  |  %s  |  %s  \" % (board[1], board[2], board[3]))\n",
    "    print(\"     |     |     \")\n",
    "    print('-'*17)\n",
    "    print(\"     |     |    \")\n",
    "    print(\"  %s  |  %s  |  %s  \" % (board[4], board[5], board[6]))\n",
    "    print(\"     |     |     \")\n",
    "    print('-'*17)\n",
    "    print(\"     |     |    \")\n",
    "    print(\"  %s  |  %s  |  %s  \" % (board[7], board[8], board[9]))\n",
    "    print(\"     |     |     \")\n",
    "\n",
    "def play():\n",
    "    global max_chances, game_state, board\n",
    "    while(game_state):\n",
    "        print(max_chances)\n",
    "        max_chances -= 1\n",
    "        game_state = True if max_chances > 0 else False\n",
    "        print(\"Your turn Player %s\" % ('1' if max_chances%2 == 1 else '2'))\n",
    "        pos = int(input(\"Select a position from (1-9)\"))\n",
    "\n",
    "        board[pos] = 'X' if max_chances%2 == 1 else 'O'\n",
    "        \n",
    "        print_board()\n",
    "\n",
    "init_game()\n",
    "play()"
   ]
  },
  {
   "cell_type": "code",
   "execution_count": 34,
   "metadata": {
    "collapsed": false
   },
   "outputs": [
    {
     "data": {
      "text/plain": [
       "7"
      ]
     },
     "execution_count": 34,
     "metadata": {},
     "output_type": "execute_result"
    }
   ],
   "source": [
    "max_chances"
   ]
  },
  {
   "cell_type": "code",
   "execution_count": 44,
   "metadata": {
    "collapsed": false
   },
   "outputs": [
    {
     "name": "stdout",
     "output_type": "stream",
     "text": [
      "Your turn Player 1\n",
      "Select a position from (1-10)5\n",
      "     |     |    \n",
      "  X  |     |  O  \n",
      "     |     |     \n",
      "-----------------\n",
      "     |     |    \n",
      "  X  |  X  |  X  \n",
      "     |     |     \n",
      "-----------------\n",
      "     |     |    \n",
      "  O  |     |  O  \n",
      "     |     |     \n"
     ]
    }
   ],
   "source": [
    "print(\"Your turn Player %s\" % ('1' if max_chances%2 == 1 else '2'))\n",
    "pos = int(input(\"Select a position from (1-10)\"))\n",
    "\n",
    "board[pos] = 'X' if max_chances%2 == 1 else 'O'\n",
    "max_chances -= 1\n",
    "print_board()"
   ]
  },
  {
   "cell_type": "code",
   "execution_count": 40,
   "metadata": {
    "collapsed": false
   },
   "outputs": [
    {
     "name": "stdout",
     "output_type": "stream",
     "text": [
      "     |     |    \n",
      "  X  |     |  O  \n",
      "     |     |     \n",
      "-----------------\n",
      "     |     |    \n",
      "  X  |     |     \n",
      "     |     |     \n",
      "-----------------\n",
      "     |     |    \n",
      "     |     |     \n",
      "     |     |     \n"
     ]
    }
   ],
   "source": [
    "print_board()"
   ]
  },
  {
   "cell_type": "code",
   "execution_count": null,
   "metadata": {
    "collapsed": true
   },
   "outputs": [],
   "source": []
  }
 ],
 "metadata": {
  "kernelspec": {
   "display_name": "Python 3",
   "language": "python",
   "name": "python3"
  },
  "language_info": {
   "codemirror_mode": {
    "name": "ipython",
    "version": 3
   },
   "file_extension": ".py",
   "mimetype": "text/x-python",
   "name": "python",
   "nbconvert_exporter": "python",
   "pygments_lexer": "ipython3",
   "version": "3.5.1"
  }
 },
 "nbformat": 4,
 "nbformat_minor": 0
}
