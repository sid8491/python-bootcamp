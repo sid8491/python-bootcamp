{
 "cells": [
  {
   "cell_type": "markdown",
   "metadata": {},
   "source": [
    "## string format"
   ]
  },
  {
   "cell_type": "code",
   "execution_count": 7,
   "metadata": {
    "collapsed": false
   },
   "outputs": [
    {
     "name": "stdout",
     "output_type": "stream",
     "text": [
      "String to be printed\n"
     ]
    }
   ],
   "source": [
    "print(\"String to be printed\")"
   ]
  },
  {
   "cell_type": "code",
   "execution_count": 11,
   "metadata": {
    "collapsed": false
   },
   "outputs": [
    {
     "name": "stdout",
     "output_type": "stream",
     "text": [
      "Total is 100.00 rupees\n"
     ]
    }
   ],
   "source": [
    "amount = 100\n",
    "money = \"rupees\"\n",
    "# %1.2f = before decimal minimum number, \n",
    "# after decimal max number of digits after decimal\n",
    "print(\"Total is %1.2f %s\" %(amount, money))"
   ]
  },
  {
   "cell_type": "code",
   "execution_count": 24,
   "metadata": {
    "collapsed": false
   },
   "outputs": [
    {
     "name": "stdout",
     "output_type": "stream",
     "text": [
      "First 1, Second two, Third 3.00\n"
     ]
    }
   ],
   "source": [
    "print(\"First %s, Second %s, Third %.2f\" % (1,'two', 3))"
   ]
  },
  {
   "cell_type": "markdown",
   "metadata": {},
   "source": [
    "can not add a value after variable, it will throw an error\n",
    "value will be printed as given variable or given index value"
   ]
  },
  {
   "cell_type": "code",
   "execution_count": 42,
   "metadata": {
    "collapsed": false
   },
   "outputs": [
    {
     "name": "stdout",
     "output_type": "stream",
     "text": [
      "First x, and second 3, third abc\n"
     ]
    }
   ],
   "source": [
    "print(\"First {x}, and second {2}, third {1}\".format(2,'abc',3, x='x'))\n",
    "# can not add a value after variable, it will throw an error\n",
    "# value will be printed as given variable or given index value"
   ]
  },
  {
   "cell_type": "markdown",
   "metadata": {},
   "source": [
    "## lists"
   ]
  },
  {
   "cell_type": "code",
   "execution_count": 67,
   "metadata": {
    "collapsed": false
   },
   "outputs": [],
   "source": [
    "my_list = ['one', 'two', 3]    #indexing starts at 0\n",
    "my_list.append(3.14)"
   ]
  },
  {
   "cell_type": "code",
   "execution_count": 55,
   "metadata": {
    "collapsed": false
   },
   "outputs": [
    {
     "name": "stdout",
     "output_type": "stream",
     "text": [
      "['one', 'two', 3, 3.14]\n"
     ]
    },
    {
     "data": {
      "text/plain": [
       "4"
      ]
     },
     "execution_count": 55,
     "metadata": {},
     "output_type": "execute_result"
    }
   ],
   "source": [
    "print(my_list)\n",
    "len(my_list)"
   ]
  },
  {
   "cell_type": "code",
   "execution_count": 65,
   "metadata": {
    "collapsed": false
   },
   "outputs": [
    {
     "name": "stdout",
     "output_type": "stream",
     "text": [
      "[3, 3.14]\n",
      "['one', 'two']\n",
      "['two', 3]\n"
     ]
    }
   ],
   "source": [
    "print(my_list[2:])    # will print from 3rd (including) to last element\n",
    "print(my_list[:2])    # will print from start to 3rd element (excluding)\n",
    "print(my_list[1:-1])     # -1 is last element of list, -2 is second last & so om"
   ]
  },
  {
   "cell_type": "code",
   "execution_count": 68,
   "metadata": {
    "collapsed": false
   },
   "outputs": [
    {
     "data": {
      "text/plain": [
       "3.14"
      ]
     },
     "execution_count": 68,
     "metadata": {},
     "output_type": "execute_result"
    }
   ],
   "source": [
    "my_list.pop()    #pops last element, can also give an index"
   ]
  },
  {
   "cell_type": "code",
   "execution_count": 76,
   "metadata": {
    "collapsed": false
   },
   "outputs": [
    {
     "data": {
      "text/plain": [
       "['q', 'w', 'e', 'r', 't', 'y']"
      ]
     },
     "execution_count": 76,
     "metadata": {},
     "output_type": "execute_result"
    }
   ],
   "source": [
    "alpha = ['q', 'w', 'e', 'r', 't', 'y']\n",
    "alpha"
   ]
  },
  {
   "cell_type": "code",
   "execution_count": 81,
   "metadata": {
    "collapsed": false
   },
   "outputs": [
    {
     "name": "stdout",
     "output_type": "stream",
     "text": [
      "['y', 'w', 't', 'r', 'q', 'e']\n",
      "['e', 'q', 'r', 't', 'w', 'y']\n"
     ]
    }
   ],
   "source": [
    "alpha.reverse()    # reverse the order\n",
    "print(alpha)\n",
    "alpha.sort()      # sort in ascending order\n",
    "print(alpha)"
   ]
  },
  {
   "cell_type": "code",
   "execution_count": 83,
   "metadata": {
    "collapsed": true
   },
   "outputs": [],
   "source": [
    "first_list = ['q', 'w', 'e', 'r', 't', 'y']\n",
    "second_list = ['a', 'b', 'c']\n",
    "third_list = ['c', 'v', 'x']"
   ]
  },
  {
   "cell_type": "code",
   "execution_count": 92,
   "metadata": {
    "collapsed": false
   },
   "outputs": [
    {
     "name": "stdout",
     "output_type": "stream",
     "text": [
      "[['q', 'w', 'e', 'r', 't', 'y'], ['a', 'b', 'c'], ['c', 'v', 'x']]\n",
      "w\n",
      "v\n"
     ]
    }
   ],
   "source": [
    "list_all = [first_list, second_list, third_list]     #nesting of lists\n",
    "print(list_all)\n",
    "print(list_all[0][1])\n",
    "print(list_all[2][1])"
   ]
  },
  {
   "cell_type": "code",
   "execution_count": 91,
   "metadata": {
    "collapsed": false
   },
   "outputs": [
    {
     "data": {
      "text/plain": [
       "['q', 'a', 'c']"
      ]
     },
     "execution_count": 91,
     "metadata": {},
     "output_type": "execute_result"
    }
   ],
   "source": [
    "first_col = [a[0] for a in list_all]\n",
    "first_col    #for every element in object, grab element[0]"
   ]
  },
  {
   "cell_type": "code",
   "execution_count": null,
   "metadata": {
    "collapsed": true
   },
   "outputs": [],
   "source": []
  }
 ],
 "metadata": {
  "kernelspec": {
   "display_name": "Python 3",
   "language": "python",
   "name": "python3"
  },
  "language_info": {
   "codemirror_mode": {
    "name": "ipython",
    "version": 3
   },
   "file_extension": ".py",
   "mimetype": "text/x-python",
   "name": "python",
   "nbconvert_exporter": "python",
   "pygments_lexer": "ipython3",
   "version": "3.5.1"
  }
 },
 "nbformat": 4,
 "nbformat_minor": 0
}
